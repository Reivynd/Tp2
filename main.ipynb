{
 "cells": [
  {
   "cell_type": "code",
   "execution_count": null,
   "metadata": {},
   "outputs": [],
   "source": [
    "from modulo import funciones\n",
    "\n",
    "def main():\n",
    "    # Datos de entrada\n",
    "    names =        [\"Agustin\", \"Yanina\", \"Andrés\", \"Ariadna\", \"Bautista\", \"CAROLINA\", \"CESAR\", \"David\", \"Diego\", \"Dolores\", \"DYLAN\", \"ELIANA\", \"Emanuel\", \"Fabián\", \"Noelia\", \"Francsica\", \"FEDERICO\", \"Fernanda\", \"GONZALO\", \"Nancy\"]\n",
    "    goals =         [0, 10, 4, 0, 5, 14, 0, 0, 7, 2, 1, 1, 1, 5, 6, 1, 1, 2, 0, 11]\n",
    "    goals_avoided = [0, 2, 0, 0, 5, 2, 0, 0, 1, 2, 0, 5, 5, 0, 1, 0, 2, 3, 0, 0]\n",
    "    assists =       [0, 5, 1, 0, 5, 2, 0, 0, 1, 2, 1, 5, 5, 0, 1, 0, 2, 3, 1, 0]\n",
    "    \n",
    "    # Crear estructura de datos de jugadores\n",
    "    players_stats = funciones.dar_estructura(names, goals, goals_avoided, assists)\n",
    "\n",
    "    \n",
    "    \n",
    "    # Calcular y mostrar resultados\n",
    "    print(\"------Resultados del equipo:----------\")\n",
    "    nombre_goleador,max_goles=funciones.goleador(players_stats) \n",
    "    print(f\"el goleador del equipo es : {nombre_goleador} con {max_goles} goles\")\n",
    "    funciones.promedio_ponderado(players_stats)\n",
    "    funciones.promedio_golequipo(players_stats)\n",
    "    funciones.promedio_goleador(players_stats)\n",
    "\n",
    "if __name__ == \"__main__\":\n",
    "    main()"
   ]
  },
  {
   "cell_type": "markdown",
   "metadata": {},
   "source": [
    "                                  ---      Descripción de funciones:      ---"
   ]
  },
  {
   "cell_type": "markdown",
   "metadata": {},
   "source": [
    "Función dar_estructura :\n",
    "\n",
    "* Se generó un diccionario vacio. Luego se le asignó una tupla de 3 elementos al diccionario (goles,goles_evitados y asistencias) y a cada elemento de esta tupla se le asignó el valor de la lista  que le correspondía.Como key de cada tupla del diccionario se utilizaron los nombres de la lista names. "
   ]
  },
  {
   "cell_type": "markdown",
   "metadata": {},
   "source": [
    "Función goleador :\n",
    "\n",
    "* Se utiliza la función max() para encontrar el jugador con más goles dentro del diccionario player_stats, utilizando una función lambda para que se compare con el primer elemento de cada lista de estadísticas. Se retorna el nombre del jugador que más goles hizo y la cantidad de goles que convirtió. "
   ]
  },
  {
   "cell_type": "markdown",
   "metadata": {},
   "source": [
    "Funcíon promedio_ponderado :\n",
    "\n",
    "* Se descarga el valor de cada clave en la variable \"clave\" y se utilizan 3 variables para desempaquetar los valores de cada tupla correspondiente a la key iterada. Luego se multiplican los valores descargados de la tupla por el valor que le corresponde en el enunciado y finalmente se los suma para obtener el promedio ponderado de la importancia de cada jugador en el equipo. Se imprime el jugador con mayor valoración, luego de comparar cada jugador con el de mayor valoración previamente registrado."
   ]
  },
  {
   "cell_type": "markdown",
   "metadata": {},
   "source": [
    "Función promedio_golequipo :\n",
    "\n",
    "* Se utiliza la función \"sum()\" para sumar los goles de cada jugador y así obtener el total de goles del equipo en los 25 partidos disputados. Finalmente se lo imprime."
   ]
  },
  {
   "cell_type": "markdown",
   "metadata": {},
   "source": [
    "Función promedio_goleador :\n",
    "\n",
    "* Se recibe el nombre y cantidad de goles del goleador del equipo como retorno del llamado a la función goleador. Se informa su promedio de gol en 25 partidos, tanto si convirtió goles como si no lo hizo."
   ]
  }
 ],
 "metadata": {
  "kernelspec": {
   "display_name": "venv",
   "language": "python",
   "name": "python3"
  },
  "language_info": {
   "codemirror_mode": {
    "name": "ipython",
    "version": 3
   },
   "file_extension": ".py",
   "mimetype": "text/x-python",
   "name": "python",
   "nbconvert_exporter": "python",
   "pygments_lexer": "ipython3",
   "version": "3.11.7"
  }
 },
 "nbformat": 4,
 "nbformat_minor": 2
}
